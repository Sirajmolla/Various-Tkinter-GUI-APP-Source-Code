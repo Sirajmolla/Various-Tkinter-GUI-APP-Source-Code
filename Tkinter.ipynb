{
 "cells": [
  {
   "cell_type": "code",
   "execution_count": 1,
   "metadata": {},
   "outputs": [],
   "source": [
    "    # !/usr/bin/python3  \n",
    "    from tkinter import *  \n",
    "    #creating the application main window.   \n",
    "    top = Tk()  \n",
    "    #Entering the event main loop  \n",
    "    top.mainloop()  \n"
   ]
  },
  {
   "cell_type": "code",
   "execution_count": 2,
   "metadata": {},
   "outputs": [],
   "source": [
    "    # !/usr/bin/python3  \n",
    "    from tkinter import *  \n",
    "    parent = Tk()  \n",
    "    redbutton = Button(parent, text = \"Red\", fg = \"red\")  \n",
    "    redbutton.pack( side = LEFT)  \n",
    "    greenbutton = Button(parent, text = \"Black\", fg = \"black\")  \n",
    "    greenbutton.pack( side = RIGHT )  \n",
    "    bluebutton = Button(parent, text = \"Blue\", fg = \"blue\")  \n",
    "    bluebutton.pack( side = TOP )  \n",
    "    blackbutton = Button(parent, text = \"Green\", fg = \"red\")  \n",
    "    blackbutton.pack( side = BOTTOM)  \n",
    "    parent.mainloop()  "
   ]
  },
  {
   "cell_type": "code",
   "execution_count": 3,
   "metadata": {},
   "outputs": [],
   "source": [
    "    # !/usr/bin/python3  \n",
    "    from tkinter import *  \n",
    "    parent = Tk()  \n",
    "    name = Label(parent,text = \"Name\").grid(row = 0, column = 0)  \n",
    "    e1 = Entry(parent).grid(row = 0, column = 1)  \n",
    "    password = Label(parent,text = \"Password\").grid(row = 1, column = 0)  \n",
    "    e2 = Entry(parent).grid(row = 1, column = 1)  \n",
    "    submit = Button(parent, text = \"Submit\").grid(row = 4, column = 0)  \n",
    "    parent.mainloop()  "
   ]
  },
  {
   "cell_type": "code",
   "execution_count": 4,
   "metadata": {},
   "outputs": [],
   "source": [
    "    # !/usr/bin/python3  \n",
    "    from tkinter import *  \n",
    "    top = Tk()  \n",
    "    top.geometry(\"400x250\")  \n",
    "    name = Label(top, text = \"Name\").place(x = 30,y = 50)  \n",
    "    email = Label(top, text = \"Email\").place(x = 30, y = 90)  \n",
    "    password = Label(top, text = \"Password\").place(x = 30, y = 130)  \n",
    "    e1 = Entry(top).place(x = 80, y = 50)  \n",
    "    e2 = Entry(top).place(x = 80, y = 90)  \n",
    "    e3 = Entry(top).place(x = 95, y = 130)  \n",
    "    top.mainloop()  "
   ]
  },
  {
   "cell_type": "code",
   "execution_count": 5,
   "metadata": {},
   "outputs": [
    {
     "ename": "AttributeError",
     "evalue": "'_tkinter.tkapp' object has no attribute 'mainaloop'",
     "output_type": "error",
     "traceback": [
      "\u001b[1;31m---------------------------------------------------------------------------\u001b[0m",
      "\u001b[1;31mAttributeError\u001b[0m                            Traceback (most recent call last)",
      "\u001b[1;32m<ipython-input-5-0a6cf032b44a>\u001b[0m in \u001b[0;36m<module>\u001b[1;34m\u001b[0m\n\u001b[0;32m     12\u001b[0m \u001b[0mb\u001b[0m\u001b[1;33m.\u001b[0m\u001b[0mpack\u001b[0m\u001b[1;33m(\u001b[0m\u001b[1;33m)\u001b[0m\u001b[1;33m\u001b[0m\u001b[1;33m\u001b[0m\u001b[0m\n\u001b[0;32m     13\u001b[0m \u001b[1;33m\u001b[0m\u001b[0m\n\u001b[1;32m---> 14\u001b[1;33m \u001b[0mtop\u001b[0m\u001b[1;33m.\u001b[0m\u001b[0mmainaloop\u001b[0m\u001b[1;33m(\u001b[0m\u001b[1;33m)\u001b[0m\u001b[1;33m\u001b[0m\u001b[1;33m\u001b[0m\u001b[0m\n\u001b[0m",
      "\u001b[1;32mC:\\ProgramData\\Anaconda3\\lib\\tkinter\\__init__.py\u001b[0m in \u001b[0;36m__getattr__\u001b[1;34m(self, attr)\u001b[0m\n\u001b[0;32m   2099\u001b[0m     \u001b[1;32mdef\u001b[0m \u001b[0m__getattr__\u001b[0m\u001b[1;33m(\u001b[0m\u001b[0mself\u001b[0m\u001b[1;33m,\u001b[0m \u001b[0mattr\u001b[0m\u001b[1;33m)\u001b[0m\u001b[1;33m:\u001b[0m\u001b[1;33m\u001b[0m\u001b[1;33m\u001b[0m\u001b[0m\n\u001b[0;32m   2100\u001b[0m         \u001b[1;34m\"Delegate attribute access to the interpreter object\"\u001b[0m\u001b[1;33m\u001b[0m\u001b[1;33m\u001b[0m\u001b[0m\n\u001b[1;32m-> 2101\u001b[1;33m         \u001b[1;32mreturn\u001b[0m \u001b[0mgetattr\u001b[0m\u001b[1;33m(\u001b[0m\u001b[0mself\u001b[0m\u001b[1;33m.\u001b[0m\u001b[0mtk\u001b[0m\u001b[1;33m,\u001b[0m \u001b[0mattr\u001b[0m\u001b[1;33m)\u001b[0m\u001b[1;33m\u001b[0m\u001b[1;33m\u001b[0m\u001b[0m\n\u001b[0m\u001b[0;32m   2102\u001b[0m \u001b[1;33m\u001b[0m\u001b[0m\n\u001b[0;32m   2103\u001b[0m \u001b[1;31m# Ideally, the classes Pack, Place and Grid disappear, the\u001b[0m\u001b[1;33m\u001b[0m\u001b[1;33m\u001b[0m\u001b[1;33m\u001b[0m\u001b[0m\n",
      "\u001b[1;31mAttributeError\u001b[0m: '_tkinter.tkapp' object has no attribute 'mainaloop'"
     ]
    }
   ],
   "source": [
    "    #python application to create a simple button  \n",
    "      \n",
    "    from tkinter import *   \n",
    "      \n",
    "      \n",
    "    top = Tk()  \n",
    "      \n",
    "    top.geometry(\"200x100\")  \n",
    "      \n",
    "    b = Button(top,text = \"Simple\")  \n",
    "      \n",
    "    b.pack()  \n",
    "      \n",
    "    top.mainaloop()  "
   ]
  },
  {
   "cell_type": "code",
   "execution_count": 7,
   "metadata": {},
   "outputs": [],
   "source": [
    "    from tkinter import *   \n",
    "      \n",
    "    top = Tk()  \n",
    "      \n",
    "    top.geometry(\"200x100\")  \n",
    "      \n",
    "    def fun():  \n",
    "        messagebox.showinfo(\"Hello\", \"Red Button clicked\")  \n",
    "      \n",
    "      \n",
    "    b1 = Button(top,text = \"Red\",command = fun,activeforeground = \"red\",activebackground = \"pink\",pady=10)  \n",
    "      \n",
    "    b2 = Button(top, text = \"Blue\",activeforeground = \"blue\",activebackground = \"pink\",pady=10)  \n",
    "      \n",
    "    b3 = Button(top, text = \"Green\",activeforeground = \"green\",activebackground = \"pink\",pady = 10)  \n",
    "      \n",
    "    b4 = Button(top, text = \"Yellow\",activeforeground = \"yellow\",activebackground = \"pink\",pady = 10)  \n",
    "      \n",
    "    b1.pack(side = LEFT)  \n",
    "      \n",
    "    b2.pack(side = RIGHT)  \n",
    "      \n",
    "    b3.pack(side = TOP)  \n",
    "      \n",
    "    b4.pack(side = BOTTOM)  \n",
    "      \n",
    "    top.mainloop()  "
   ]
  },
  {
   "cell_type": "code",
   "execution_count": 8,
   "metadata": {},
   "outputs": [],
   "source": [
    "    from tkinter import *   \n",
    "      \n",
    "    top = Tk()  \n",
    "      \n",
    "    top.geometry(\"200x200\")  \n",
    "      \n",
    "    #creating a simple canvas  \n",
    "    c = Canvas(top,bg = \"pink\",height = \"200\")  \n",
    "      \n",
    "      \n",
    "    c.pack()  \n",
    "      \n",
    "    top.mainloop()  "
   ]
  },
  {
   "cell_type": "markdown",
   "metadata": {},
   "source": [
    "# Example: Creating an arc"
   ]
  },
  {
   "cell_type": "code",
   "execution_count": 5,
   "metadata": {},
   "outputs": [],
   "source": [
    "    from tkinter import *   \n",
    "      \n",
    "    top = Tk()  \n",
    "      \n",
    "    top.geometry(\"200x200\")  \n",
    "      \n",
    "    #creating a simple canvas  \n",
    "    c = Canvas(top,bg = \"pink\",height = \"200\",width = 200)  \n",
    "      \n",
    "    arc = c.create_arc((5,10,150,200),start = 0,extent = 150, fill= \"white\")  \n",
    "      \n",
    "    c.pack()  \n",
    "      \n",
    "    top.mainloop()  "
   ]
  },
  {
   "cell_type": "code",
   "execution_count": 15,
   "metadata": {},
   "outputs": [],
   "source": [
    "    from tkinter import *   \n",
    "      \n",
    "    top = Tk()  \n",
    "      \n",
    "    top.geometry(\"200x200\")  \n",
    "      \n",
    "    checkvar1 = IntVar()  \n",
    "      \n",
    "    checkvar2 = IntVar()  \n",
    "      \n",
    "    checkvar3 = IntVar()  \n",
    "      \n",
    "    chkbtn1 = Checkbutton(top, text = \"C\", variable = checkvar1, onvalue = 1, offvalue = 0, height = 2, width = 10)  \n",
    "      \n",
    "    chkbtn2 = Checkbutton(top, text = \"C++\", variable = checkvar2, onvalue = 1, offvalue = 0, height = 2, width = 10)  \n",
    "      \n",
    "    chkbtn3 = Checkbutton(top, text = \"Java\", variable = checkvar3, onvalue = 1, offvalue = 0, height = 2, width = 10)  \n",
    "      \n",
    "    chkbtn1.pack()  \n",
    "      \n",
    "    chkbtn2.pack()  \n",
    "      \n",
    "    chkbtn3.pack()  \n",
    "      \n",
    "    top.mainloop()  "
   ]
  },
  {
   "cell_type": "markdown",
   "metadata": {},
   "source": [
    "# Create submit form"
   ]
  },
  {
   "cell_type": "code",
   "execution_count": 10,
   "metadata": {},
   "outputs": [],
   "source": [
    "    # !/usr/bin/python3  \n",
    "      \n",
    "    from tkinter import *  \n",
    "      \n",
    "    top = Tk()  \n",
    "      \n",
    "    top.geometry(\"400x250\")  \n",
    "      \n",
    "    name = Label(top, text = \"Name\").place(x = 30,y = 50)  \n",
    "      \n",
    "    email = Label(top, text = \"Email\").place(x = 30, y = 90)  \n",
    "      \n",
    "    password = Label(top, text = \"Password\").place(x = 30, y = 130)  \n",
    "      \n",
    "    sbmitbtn = Button(top, text = \"Submit\",activebackground = \"pink\", activeforeground = \"blue\").place(x = 30, y = 170)  \n",
    "      \n",
    "    e1 = Entry(top).place(x = 80, y = 50)  \n",
    "      \n",
    "      \n",
    "    e2 = Entry(top).place(x = 80, y = 90)  \n",
    "      \n",
    "      \n",
    "    e3 = Entry(top).place(x = 95, y = 130)  \n",
    "      \n",
    "    top.mainloop()  "
   ]
  },
  {
   "cell_type": "markdown",
   "metadata": {},
   "source": [
    "# Example: A simple calculator"
   ]
  },
  {
   "cell_type": "code",
   "execution_count": 11,
   "metadata": {},
   "outputs": [],
   "source": [
    "    import tkinter as tk  \n",
    "    from functools import partial  \n",
    "       \n",
    "       \n",
    "    def call_result(label_result, n1, n2):  \n",
    "        num1 = (n1.get())  \n",
    "        num2 = (n2.get())  \n",
    "        result = int(num1)+int(num2)  \n",
    "        label_result.config(text=\"Result = %d\" % result)  \n",
    "        return  \n",
    "       \n",
    "    root = tk.Tk()  \n",
    "    root.geometry('400x200+100+200')  \n",
    "      \n",
    "    root.title('Calculator')  \n",
    "       \n",
    "    number1 = tk.StringVar()  \n",
    "    number2 = tk.StringVar()  \n",
    "      \n",
    "    labelNum1 = tk.Label(root, text=\"A\").grid(row=1, column=0)  \n",
    "      \n",
    "    labelNum2 = tk.Label(root, text=\"B\").grid(row=2, column=0)  \n",
    "      \n",
    "    labelResult = tk.Label(root)  \n",
    "      \n",
    "    labelResult.grid(row=7, column=2)  \n",
    "      \n",
    "    entryNum1 = tk.Entry(root, textvariable=number1).grid(row=1, column=2)  \n",
    "      \n",
    "    entryNum2 = tk.Entry(root, textvariable=number2).grid(row=2, column=2)  \n",
    "      \n",
    "    call_result = partial(call_result, labelResult, number1, number2)  \n",
    "      \n",
    "    buttonCal = tk.Button(root, text=\"Calculate\", command=call_result).grid(row=3, column=0)  \n",
    "      \n",
    "    root.mainloop()  "
   ]
  },
  {
   "cell_type": "code",
   "execution_count": 18,
   "metadata": {},
   "outputs": [],
   "source": [
    "    from tkinter import *  \n",
    "      \n",
    "    top = Tk()  \n",
    "    top.geometry(\"140x100\")  \n",
    "    frame = Frame(top)  \n",
    "    frame.pack()  \n",
    "      \n",
    "    leftframe = Frame(top)  \n",
    "    leftframe.pack(side = LEFT)  \n",
    "      \n",
    "    rightframe = Frame(top)  \n",
    "    rightframe.pack(side = RIGHT)  \n",
    "      \n",
    "    btn1 = Button(frame, text=\"Submit\", fg=\"red\",activebackground = \"red\")  \n",
    "    btn1.pack(side = LEFT)  \n",
    "      \n",
    "    btn2 = Button(frame, text=\"Remove\", fg=\"brown\", activebackground = \"brown\")  \n",
    "    btn2.pack(side = RIGHT)  \n",
    "      \n",
    "    btn3 = Button(rightframe, text=\"Add\", fg=\"blue\", activebackground = \"blue\")  \n",
    "    btn3.pack(side = LEFT)  \n",
    "      \n",
    "    btn4 = Button(leftframe, text=\"Modify\", fg=\"black\", activebackground = \"white\")  \n",
    "    btn4.pack(side = RIGHT)  \n",
    "      \n",
    "    top.mainloop()  "
   ]
  },
  {
   "cell_type": "code",
   "execution_count": 12,
   "metadata": {},
   "outputs": [],
   "source": [
    "# !/usr/bin/python3  \n",
    "  \n",
    "from tkinter import *  \n",
    "  \n",
    "top = Tk()  \n",
    "  \n",
    "top.geometry(\"400x250\")  \n",
    "  \n",
    "#creating label  \n",
    "uname = Label(top, text = \"Username\").place(x = 30,y = 50)  \n",
    "  \n",
    "#creating label  \n",
    "password = Label(top, text = \"Password\").place(x = 30, y = 90)  \n",
    "  \n",
    "  \n",
    "sbmitbtn = Button(top, text = \"Submit\",activebackground = \"pink\", activeforeground = \"blue\").place(x = 30, y = 120)  \n",
    "  \n",
    "e1 = Entry(top,width = 20).place(x = 100, y = 50)  \n",
    "  \n",
    "  \n",
    "e2 = Entry(top, width = 20).place(x = 100, y = 90)  \n",
    "  \n",
    "  \n",
    "top.mainloop()"
   ]
  },
  {
   "cell_type": "code",
   "execution_count": 20,
   "metadata": {},
   "outputs": [],
   "source": [
    "    # !/usr/bin/python3  \n",
    "      \n",
    "    from tkinter import *  \n",
    "      \n",
    "    top = Tk()  \n",
    "      \n",
    "    top.geometry(\"200x250\")  \n",
    "      \n",
    "    lbl = Label(top,text = \"A list of favourite countries...\")  \n",
    "      \n",
    "    listbox = Listbox(top)  \n",
    "      \n",
    "    listbox.insert(1,\"India\")  \n",
    "      \n",
    "    listbox.insert(2, \"USA\")  \n",
    "      \n",
    "    listbox.insert(3, \"Japan\")  \n",
    "      \n",
    "    listbox.insert(4, \"Austrelia\")  \n",
    "      \n",
    "    lbl.pack()  \n",
    "    listbox.pack()  \n",
    "      \n",
    "    top.mainloop()  "
   ]
  },
  {
   "cell_type": "markdown",
   "metadata": {},
   "source": [
    "# Example 2: Deleting the active items from the list"
   ]
  },
  {
   "cell_type": "code",
   "execution_count": 21,
   "metadata": {},
   "outputs": [],
   "source": [
    "    # !/usr/bin/python3  \n",
    "      \n",
    "    from tkinter import *  \n",
    "      \n",
    "    top = Tk()  \n",
    "      \n",
    "    top.geometry(\"200x250\")  \n",
    "      \n",
    "    lbl = Label(top,text = \"A list of favourite countries...\")  \n",
    "      \n",
    "    listbox = Listbox(top)  \n",
    "      \n",
    "    listbox.insert(1,\"India\")  \n",
    "      \n",
    "    listbox.insert(2, \"USA\")  \n",
    "      \n",
    "    listbox.insert(3, \"Japan\")  \n",
    "      \n",
    "    listbox.insert(4, \"Austrelia\")  \n",
    "      \n",
    "    #this button will delete the selected item from the list   \n",
    "      \n",
    "    btn = Button(top, text = \"delete\", command = lambda listbox=listbox: listbox.delete(ANCHOR))  \n",
    "      \n",
    "    lbl.pack()  \n",
    "      \n",
    "      \n",
    "    listbox.pack()  \n",
    "      \n",
    "    btn.pack()  \n",
    "    top.mainloop()  "
   ]
  },
  {
   "cell_type": "code",
   "execution_count": 22,
   "metadata": {},
   "outputs": [],
   "source": [
    "    # !/usr/bin/python3  \n",
    "      \n",
    "    from tkinter import *  \n",
    "      \n",
    "    top = Tk()  \n",
    "      \n",
    "    top.geometry(\"200x250\")  \n",
    "      \n",
    "    menubutton = Menubutton(top, text = \"Language\", relief = FLAT)  \n",
    "      \n",
    "    menubutton.grid()  \n",
    "      \n",
    "    menubutton.menu = Menu(menubutton)  \n",
    "      \n",
    "    menubutton[\"menu\"]=menubutton.menu  \n",
    "      \n",
    "    menubutton.menu.add_checkbutton(label = \"Hindi\", variable=IntVar())  \n",
    "      \n",
    "    menubutton.menu.add_checkbutton(label = \"English\", variable = IntVar())  \n",
    "      \n",
    "    menubutton.pack()  \n",
    "      \n",
    "    top.mainloop()  "
   ]
  },
  {
   "cell_type": "markdown",
   "metadata": {},
   "source": [
    "# Creating a top level menu "
   ]
  },
  {
   "cell_type": "code",
   "execution_count": 24,
   "metadata": {},
   "outputs": [
    {
     "ename": "TclError",
     "evalue": "can't invoke \"menu\" command: application has been destroyed",
     "output_type": "error",
     "traceback": [
      "\u001b[1;31m---------------------------------------------------------------------------\u001b[0m",
      "\u001b[1;31mTclError\u001b[0m                                  Traceback (most recent call last)",
      "\u001b[1;32m<ipython-input-24-261e8f4c323c>\u001b[0m in \u001b[0;36m<module>\u001b[1;34m\u001b[0m\n\u001b[0;32m      9\u001b[0m \u001b[1;33m\u001b[0m\u001b[0m\n\u001b[0;32m     10\u001b[0m \u001b[1;31m# create a toplevel menu\u001b[0m\u001b[1;33m\u001b[0m\u001b[1;33m\u001b[0m\u001b[1;33m\u001b[0m\u001b[0m\n\u001b[1;32m---> 11\u001b[1;33m \u001b[0mmenubar\u001b[0m \u001b[1;33m=\u001b[0m \u001b[0mMenu\u001b[0m\u001b[1;33m(\u001b[0m\u001b[0mroot\u001b[0m\u001b[1;33m)\u001b[0m\u001b[1;33m\u001b[0m\u001b[1;33m\u001b[0m\u001b[0m\n\u001b[0m\u001b[0;32m     12\u001b[0m \u001b[0mmenubar\u001b[0m\u001b[1;33m.\u001b[0m\u001b[0madd_command\u001b[0m\u001b[1;33m(\u001b[0m\u001b[0mlabel\u001b[0m\u001b[1;33m=\u001b[0m\u001b[1;34m\"Hello!\"\u001b[0m\u001b[1;33m,\u001b[0m \u001b[0mcommand\u001b[0m\u001b[1;33m=\u001b[0m\u001b[0mhello\u001b[0m\u001b[1;33m)\u001b[0m\u001b[1;33m\u001b[0m\u001b[1;33m\u001b[0m\u001b[0m\n\u001b[0;32m     13\u001b[0m \u001b[0mmenubar\u001b[0m\u001b[1;33m.\u001b[0m\u001b[0madd_command\u001b[0m\u001b[1;33m(\u001b[0m\u001b[0mlabel\u001b[0m\u001b[1;33m=\u001b[0m\u001b[1;34m\"Quit!\"\u001b[0m\u001b[1;33m,\u001b[0m \u001b[0mcommand\u001b[0m\u001b[1;33m=\u001b[0m\u001b[0mtop\u001b[0m\u001b[1;33m.\u001b[0m\u001b[0mquit\u001b[0m\u001b[1;33m)\u001b[0m\u001b[1;33m\u001b[0m\u001b[1;33m\u001b[0m\u001b[0m\n",
      "\u001b[1;32mC:\\ProgramData\\Anaconda3\\lib\\tkinter\\__init__.py\u001b[0m in \u001b[0;36m__init__\u001b[1;34m(self, master, cnf, **kw)\u001b[0m\n\u001b[0;32m   2866\u001b[0m         \u001b[0mdisabledforeground\u001b[0m\u001b[1;33m,\u001b[0m \u001b[0mfg\u001b[0m\u001b[1;33m,\u001b[0m \u001b[0mfont\u001b[0m\u001b[1;33m,\u001b[0m \u001b[0mforeground\u001b[0m\u001b[1;33m,\u001b[0m \u001b[0mpostcommand\u001b[0m\u001b[1;33m,\u001b[0m \u001b[0mrelief\u001b[0m\u001b[1;33m,\u001b[0m\u001b[1;33m\u001b[0m\u001b[1;33m\u001b[0m\u001b[0m\n\u001b[0;32m   2867\u001b[0m         selectcolor, takefocus, tearoff, tearoffcommand, title, type.\"\"\"\n\u001b[1;32m-> 2868\u001b[1;33m         \u001b[0mWidget\u001b[0m\u001b[1;33m.\u001b[0m\u001b[0m__init__\u001b[0m\u001b[1;33m(\u001b[0m\u001b[0mself\u001b[0m\u001b[1;33m,\u001b[0m \u001b[0mmaster\u001b[0m\u001b[1;33m,\u001b[0m \u001b[1;34m'menu'\u001b[0m\u001b[1;33m,\u001b[0m \u001b[0mcnf\u001b[0m\u001b[1;33m,\u001b[0m \u001b[0mkw\u001b[0m\u001b[1;33m)\u001b[0m\u001b[1;33m\u001b[0m\u001b[1;33m\u001b[0m\u001b[0m\n\u001b[0m\u001b[0;32m   2869\u001b[0m     \u001b[1;32mdef\u001b[0m \u001b[0mtk_popup\u001b[0m\u001b[1;33m(\u001b[0m\u001b[0mself\u001b[0m\u001b[1;33m,\u001b[0m \u001b[0mx\u001b[0m\u001b[1;33m,\u001b[0m \u001b[0my\u001b[0m\u001b[1;33m,\u001b[0m \u001b[0mentry\u001b[0m\u001b[1;33m=\u001b[0m\u001b[1;34m\"\"\u001b[0m\u001b[1;33m)\u001b[0m\u001b[1;33m:\u001b[0m\u001b[1;33m\u001b[0m\u001b[1;33m\u001b[0m\u001b[0m\n\u001b[0;32m   2870\u001b[0m         \u001b[1;34m\"\"\"Post the menu at position X,Y with entry ENTRY.\"\"\"\u001b[0m\u001b[1;33m\u001b[0m\u001b[1;33m\u001b[0m\u001b[0m\n",
      "\u001b[1;32mC:\\ProgramData\\Anaconda3\\lib\\tkinter\\__init__.py\u001b[0m in \u001b[0;36m__init__\u001b[1;34m(self, master, widgetName, cnf, kw, extra)\u001b[0m\n\u001b[0;32m   2297\u001b[0m             \u001b[1;32mdel\u001b[0m \u001b[0mcnf\u001b[0m\u001b[1;33m[\u001b[0m\u001b[0mk\u001b[0m\u001b[1;33m]\u001b[0m\u001b[1;33m\u001b[0m\u001b[1;33m\u001b[0m\u001b[0m\n\u001b[0;32m   2298\u001b[0m         self.tk.call(\n\u001b[1;32m-> 2299\u001b[1;33m             (widgetName, self._w) + extra + self._options(cnf))\n\u001b[0m\u001b[0;32m   2300\u001b[0m         \u001b[1;32mfor\u001b[0m \u001b[0mk\u001b[0m\u001b[1;33m,\u001b[0m \u001b[0mv\u001b[0m \u001b[1;32min\u001b[0m \u001b[0mclasses\u001b[0m\u001b[1;33m:\u001b[0m\u001b[1;33m\u001b[0m\u001b[1;33m\u001b[0m\u001b[0m\n\u001b[0;32m   2301\u001b[0m             \u001b[0mk\u001b[0m\u001b[1;33m.\u001b[0m\u001b[0mconfigure\u001b[0m\u001b[1;33m(\u001b[0m\u001b[0mself\u001b[0m\u001b[1;33m,\u001b[0m \u001b[0mv\u001b[0m\u001b[1;33m)\u001b[0m\u001b[1;33m\u001b[0m\u001b[1;33m\u001b[0m\u001b[0m\n",
      "\u001b[1;31mTclError\u001b[0m: can't invoke \"menu\" command: application has been destroyed"
     ]
    }
   ],
   "source": [
    "    # !/usr/bin/python3  \n",
    "      \n",
    "    from tkinter import *  \n",
    "      \n",
    "    top = Tk()  \n",
    "      \n",
    "    def hello():  \n",
    "        print(\"hello!\")  \n",
    "      \n",
    "    # create a toplevel menu  \n",
    "    menubar = Menu(root)  \n",
    "    menubar.add_command(label=\"Hello!\", command=hello)  \n",
    "    menubar.add_command(label=\"Quit!\", command=top.quit)  \n",
    "      \n",
    "    # display the menu  \n",
    "    top.config(menu=menubar)  \n",
    "      \n",
    "    top.mainloop()  "
   ]
  },
  {
   "cell_type": "markdown",
   "metadata": {},
   "source": [
    "# Creating top level menu button environment"
   ]
  },
  {
   "cell_type": "code",
   "execution_count": 27,
   "metadata": {},
   "outputs": [],
   "source": [
    "    from tkinter import Toplevel, Button, Tk, Menu  \n",
    "      \n",
    "    top = Tk()  \n",
    "    menubar = Menu(top)  \n",
    "    file = Menu(menubar, tearoff=0)  \n",
    "    file.add_command(label=\"New\")  \n",
    "    file.add_command(label=\"Open\")  \n",
    "    file.add_command(label=\"Save\")  \n",
    "    file.add_command(label=\"Save as...\")  \n",
    "    file.add_command(label=\"Close\")  \n",
    "      \n",
    "    file.add_separator()  \n",
    "      \n",
    "    file.add_command(label=\"Exit\", command=top.quit)  \n",
    "      \n",
    "    menubar.add_cascade(label=\"File\", menu=file)  \n",
    "    edit = Menu(menubar, tearoff=0)  \n",
    "    edit.add_command(label=\"Undo\")  \n",
    "      \n",
    "    edit.add_separator()  \n",
    "      \n",
    "    edit.add_command(label=\"Cut\")  \n",
    "    edit.add_command(label=\"Copy\")  \n",
    "    edit.add_command(label=\"Paste\")  \n",
    "    edit.add_command(label=\"Delete\")  \n",
    "    edit.add_command(label=\"Select All\")  \n",
    "      \n",
    "    menubar.add_cascade(label=\"Edit\", menu=edit)  \n",
    "    help = Menu(menubar, tearoff=0)  \n",
    "    help.add_command(label=\"About\")  \n",
    "    menubar.add_cascade(label=\"Help\", menu=help)  \n",
    "      \n",
    "    top.config(menu=menubar)  \n",
    "    top.mainloop()  "
   ]
  },
  {
   "cell_type": "markdown",
   "metadata": {},
   "source": [
    "# Python Tkinter Message"
   ]
  },
  {
   "cell_type": "code",
   "execution_count": 30,
   "metadata": {},
   "outputs": [],
   "source": [
    "    from tkinter import *  \n",
    "      \n",
    "    top = Tk()  \n",
    "    top.geometry(\"100x100\")  \n",
    "    var = StringVar()  \n",
    "    msg = Message( top, text = \"Welcome to Siraj Tech Solution\")  \n",
    "      \n",
    "    msg.pack()  \n",
    "    top.mainloop()  "
   ]
  },
  {
   "cell_type": "markdown",
   "metadata": {},
   "source": [
    "# Python Tkinter Radiobutton "
   ]
  },
  {
   "cell_type": "code",
   "execution_count": 31,
   "metadata": {},
   "outputs": [],
   "source": [
    "    from tkinter import *  \n",
    "      \n",
    "    def selection():  \n",
    "       selection = \"You selected the option \" + str(radio.get())  \n",
    "       label.config(text = selection)  \n",
    "      \n",
    "    top = Tk()  \n",
    "    top.geometry(\"300x150\")  \n",
    "    radio = IntVar()  \n",
    "    lbl = Label(text = \"Favourite programming language:\")  \n",
    "    lbl.pack()  \n",
    "    R1 = Radiobutton(top, text=\"C\", variable=radio, value=1,  \n",
    "                      command=selection)  \n",
    "    R1.pack( anchor = W )  \n",
    "      \n",
    "    R2 = Radiobutton(top, text=\"C++\", variable=radio, value=2,  \n",
    "                      command=selection)  \n",
    "    R2.pack( anchor = W )  \n",
    "      \n",
    "    R3 = Radiobutton(top, text=\"Java\", variable=radio, value=3,  \n",
    "                      command=selection)  \n",
    "    R3.pack( anchor = W)  \n",
    "      \n",
    "    label = Label(top)  \n",
    "    label.pack()  \n",
    "    top.mainloop()  "
   ]
  },
  {
   "cell_type": "markdown",
   "metadata": {},
   "source": [
    "# Python Tkinter Scale "
   ]
  },
  {
   "cell_type": "code",
   "execution_count": 32,
   "metadata": {},
   "outputs": [],
   "source": [
    "    from tkinter import *  \n",
    "      \n",
    "    def select():  \n",
    "       sel = \"Value = \" + str(v.get())  \n",
    "       label.config(text = sel)  \n",
    "         \n",
    "    top = Tk()  \n",
    "    top.geometry(\"200x100\")  \n",
    "    v = DoubleVar()  \n",
    "    scale = Scale( top, variable = v, from_ = 1, to = 50, orient = HORIZONTAL)  \n",
    "    scale.pack(anchor=CENTER)  \n",
    "      \n",
    "    btn = Button(top, text=\"Value\", command=select)  \n",
    "    btn.pack(anchor=CENTER)  \n",
    "      \n",
    "    label = Label(top)  \n",
    "    label.pack()  \n",
    "      \n",
    "    top.mainloop()  "
   ]
  },
  {
   "cell_type": "markdown",
   "metadata": {},
   "source": [
    "# Python Tkinter Scrollbar "
   ]
  },
  {
   "cell_type": "code",
   "execution_count": 33,
   "metadata": {},
   "outputs": [],
   "source": [
    "    from tkinter import *  \n",
    "      \n",
    "    top = Tk()  \n",
    "    sb = Scrollbar(top)  \n",
    "    sb.pack(side = RIGHT, fill = Y)  \n",
    "      \n",
    "    mylist = Listbox(top, yscrollcommand = sb.set )  \n",
    "      \n",
    "    for line in range(30):  \n",
    "        mylist.insert(END, \"Number \" + str(line))  \n",
    "      \n",
    "    mylist.pack( side = LEFT )  \n",
    "    sb.config( command = mylist.yview )  \n",
    "      \n",
    "    mainloop()  "
   ]
  },
  {
   "cell_type": "markdown",
   "metadata": {},
   "source": [
    "# Python Tkinter Text "
   ]
  },
  {
   "cell_type": "code",
   "execution_count": 23,
   "metadata": {},
   "outputs": [],
   "source": [
    "    from tkinter import *  \n",
    "      \n",
    "    top = Tk()  \n",
    "    text = Text(top)  \n",
    "    text.insert(INSERT, \"Name.....\")  \n",
    "    text.insert(END, \"Salary.....\")  \n",
    "      \n",
    "    text.pack()  \n",
    "      \n",
    "    text.tag_add(\"Write Here\", \"1.0\", \"1.4\")  \n",
    "    text.tag_add(\"Click Here\", \"1.8\", \"1.13\")  \n",
    "      \n",
    "    text.tag_config(\"Write Here\", background=\"yellow\", foreground=\"black\")  \n",
    "    text.tag_config(\"Click Here\", background=\"black\", foreground=\"white\")  \n",
    "      \n",
    "    top.mainloop()  "
   ]
  },
  {
   "cell_type": "markdown",
   "metadata": {},
   "source": [
    "# Tkinter Toplevel "
   ]
  },
  {
   "cell_type": "code",
   "execution_count": 35,
   "metadata": {},
   "outputs": [],
   "source": [
    "    from tkinter import *  \n",
    "      \n",
    "    root = Tk()  \n",
    "      \n",
    "    root.geometry(\"200x200\")  \n",
    "      \n",
    "    def open():  \n",
    "        top = Toplevel(root)  \n",
    "        top.mainloop()  \n",
    "      \n",
    "    btn = Button(root, text = \"open\", command = open)  \n",
    "      \n",
    "    btn.place(x=75,y=50)  \n",
    "      \n",
    "    root.mainloop()  "
   ]
  },
  {
   "cell_type": "markdown",
   "metadata": {},
   "source": [
    "# Python Tkinter Spinbox "
   ]
  },
  {
   "cell_type": "code",
   "execution_count": 37,
   "metadata": {},
   "outputs": [],
   "source": [
    "from tkinter import *  \n",
    "  \n",
    "top = Tk()  \n",
    "  \n",
    "top.geometry(\"200x200\")  \n",
    "  \n",
    "spin = Spinbox(top, from_= 0, to = 25)  \n",
    "  \n",
    "spin.pack()  \n",
    "  \n",
    "top.mainloop()  "
   ]
  },
  {
   "cell_type": "markdown",
   "metadata": {},
   "source": [
    "# Tkinter PanedWindow"
   ]
  },
  {
   "cell_type": "code",
   "execution_count": 22,
   "metadata": {},
   "outputs": [],
   "source": [
    "    # !/usr/bin/python3  \n",
    "    from tkinter import *  \n",
    "      \n",
    "    def add():  \n",
    "        a = int(e1.get())  \n",
    "        b = int(e2.get())  \n",
    "        leftdata = str(a+b)  \n",
    "        left.insert(1,leftdata)  \n",
    "      \n",
    "    w1 = PanedWindow()  \n",
    "    w1.pack(fill = BOTH, expand = 1)  \n",
    "      \n",
    "    left = Entry(w1, bd = 5)  \n",
    "    w1.add(left)  \n",
    "      \n",
    "    w2 = PanedWindow(w1, orient = VERTICAL)  \n",
    "    w1.add(w2)  \n",
    "      \n",
    "    e1 = Entry(w2)  \n",
    "    e2 = Entry(w2)  \n",
    "      \n",
    "    w2.add(e1)  \n",
    "    w2.add(e2)  \n",
    "      \n",
    "    bottom = Button(w2, text = \"Add\", command = add)  \n",
    "    w2.add(bottom)  \n",
    "      \n",
    "    mainloop()  "
   ]
  },
  {
   "cell_type": "markdown",
   "metadata": {},
   "source": [
    "# Tkinter LabelFrame"
   ]
  },
  {
   "cell_type": "code",
   "execution_count": 21,
   "metadata": {},
   "outputs": [],
   "source": [
    "    # !/usr/bin/python3  \n",
    "    from tkinter import *  \n",
    "      \n",
    "    top = Tk()  \n",
    "    top.geometry(\"300x200\")  \n",
    "      \n",
    "    labelframe1 = LabelFrame(top, text=\"Positive Comments\")  \n",
    "    labelframe1.pack(fill=\"both\", expand=\"yes\")  \n",
    "      \n",
    "    toplabel = Label(labelframe1, text=\"Place to put the positive comments\")  \n",
    "    toplabel.pack()  \n",
    "      \n",
    "    labelframe2 = LabelFrame(top, text = \"Negative Comments\")  \n",
    "    labelframe2.pack(fill=\"both\", expand = \"yes\")  \n",
    "      \n",
    "    bottomlabel = Label(labelframe2,text = \"Place to put the negative comments\")  \n",
    "    bottomlabel.pack()  \n",
    "      \n",
    "    top.mainloop()  "
   ]
  },
  {
   "cell_type": "markdown",
   "metadata": {},
   "source": [
    "# Tkinter messagebox "
   ]
  },
  {
   "cell_type": "code",
   "execution_count": 20,
   "metadata": {},
   "outputs": [],
   "source": [
    "    # !/usr/bin/python3  \n",
    "      \n",
    "    from tkinter import *  \n",
    "      \n",
    "    from tkinter import messagebox  \n",
    "      \n",
    "    top = Tk()  \n",
    "      \n",
    "    top.geometry(\"100x100\")      \n",
    "      \n",
    "    messagebox.showinfo(\"information\",\"Information\")  \n",
    "      \n",
    "    top.mainloop()  "
   ]
  },
  {
   "cell_type": "markdown",
   "metadata": {},
   "source": [
    "# 2. showwarning()"
   ]
  },
  {
   "cell_type": "code",
   "execution_count": 19,
   "metadata": {},
   "outputs": [],
   "source": [
    "    # !/usr/bin/python3  \n",
    "    from tkinter import *  \n",
    "      \n",
    "    from tkinter import messagebox  \n",
    "      \n",
    "    top = Tk()  \n",
    "    top.geometry(\"100x100\")  \n",
    "    messagebox.showwarning(\"warning\",\"Warning\")  \n",
    "      \n",
    "    top.mainloop()  "
   ]
  },
  {
   "cell_type": "markdown",
   "metadata": {},
   "source": [
    "# 3. showerror()"
   ]
  },
  {
   "cell_type": "code",
   "execution_count": 18,
   "metadata": {},
   "outputs": [],
   "source": [
    "    # !/usr/bin/python3  \n",
    "    from tkinter import *  \n",
    "    from tkinter import messagebox  \n",
    "      \n",
    "    top = Tk()  \n",
    "    top.geometry(\"100x100\")  \n",
    "    messagebox.showerror(\"error\",\"Error\")  \n",
    "    top.mainloop()  "
   ]
  },
  {
   "cell_type": "markdown",
   "metadata": {},
   "source": [
    "# 4. askquestion()"
   ]
  },
  {
   "cell_type": "code",
   "execution_count": 16,
   "metadata": {},
   "outputs": [],
   "source": [
    "    # !/usr/bin/python3  \n",
    "    from tkinter import *  \n",
    "    from tkinter import messagebox  \n",
    "      \n",
    "    top = Tk()  \n",
    "    top.geometry(\"100x100\")  \n",
    "    messagebox.askquestion(\"Confirm\",\"Are you sure?\")  \n",
    "    top.mainloop()  "
   ]
  },
  {
   "cell_type": "markdown",
   "metadata": {},
   "source": [
    "# 5. askokcancel()"
   ]
  },
  {
   "cell_type": "code",
   "execution_count": 15,
   "metadata": {},
   "outputs": [],
   "source": [
    "    # !/usr/bin/python3  \n",
    "    from tkinter import *  \n",
    "    from tkinter import messagebox  \n",
    "      \n",
    "    top = Tk()  \n",
    "    top.geometry(\"100x100\")  \n",
    "    messagebox.askokcancel(\"Redirect\",\"Redirecting you to https://sirajtechsolution.blogspot.com\")  \n",
    "    top.mainloop()  "
   ]
  },
  {
   "cell_type": "markdown",
   "metadata": {},
   "source": [
    "# 6. askyesno()"
   ]
  },
  {
   "cell_type": "code",
   "execution_count": 8,
   "metadata": {},
   "outputs": [],
   "source": [
    "    # !/usr/bin/python3  \n",
    "    from tkinter import *  \n",
    "    from tkinter import messagebox  \n",
    "      \n",
    "    top = Tk()  \n",
    "    top.geometry(\"100x100\")  \n",
    "    messagebox.askyesno(\"Application\",\"Got It?\")  \n",
    "    top.mainloop()  "
   ]
  },
  {
   "cell_type": "markdown",
   "metadata": {},
   "source": [
    "# 7. askretrycancel()\n",
    "\n",
    "This method is used to ask the user about doing a particular task again or not. Consider the following example. "
   ]
  },
  {
   "cell_type": "code",
   "execution_count": 7,
   "metadata": {},
   "outputs": [],
   "source": [
    "    # !/usr/bin/python3  \n",
    "    from tkinter import *  \n",
    "    from tkinter import messagebox  \n",
    "      \n",
    "    top = Tk()  \n",
    "    top.geometry(\"100x100\")  \n",
    "    messagebox.askretrycancel(\"Application\",\"try again?\")  \n",
    "      \n",
    "    top.mainloop()  "
   ]
  },
  {
   "cell_type": "code",
   "execution_count": null,
   "metadata": {},
   "outputs": [],
   "source": []
  }
 ],
 "metadata": {
  "kernelspec": {
   "display_name": "Python 3",
   "language": "python",
   "name": "python3"
  },
  "language_info": {
   "codemirror_mode": {
    "name": "ipython",
    "version": 3
   },
   "file_extension": ".py",
   "mimetype": "text/x-python",
   "name": "python",
   "nbconvert_exporter": "python",
   "pygments_lexer": "ipython3",
   "version": "3.7.3"
  }
 },
 "nbformat": 4,
 "nbformat_minor": 2
}
